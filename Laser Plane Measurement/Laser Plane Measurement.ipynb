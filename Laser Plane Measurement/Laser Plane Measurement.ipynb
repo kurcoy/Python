{
 "cells": [
  {
   "cell_type": "markdown",
   "metadata": {},
   "source": [
    "# Deriving parameter estimation and uncertainties for laser plane measurement"
   ]
  },
  {
   "cell_type": "markdown",
   "metadata": {},
   "source": [
    "## Preliminaries"
   ]
  },
  {
   "cell_type": "code",
   "execution_count": 8,
   "metadata": {
    "collapsed": true
   },
   "outputs": [],
   "source": [
    "from sympy import *\n",
    "from sympy.interactive import printing\n",
    "printing.init_printing(use_latex='mathjax')\n",
    "import numpy as np\n",
    "from sympy.matrices import *\n",
    "from IPython.display import display\n",
    "\n",
    "%matplotlib inline\n",
    "from matplotlib import pyplot as plt"
   ]
  },
  {
   "cell_type": "code",
   "execution_count": 24,
   "metadata": {
    "collapsed": false
   },
   "outputs": [],
   "source": [
    "u, t, phi, phi_t, p, phi_p = symbols('u, t, \\phi, \\phi_t, p, \\phi_p')\n",
    "l_sym = symbols('l')"
   ]
  },
  {
   "cell_type": "markdown",
   "metadata": {},
   "source": [
    "## Introduction and Model Equation and model Jacobian"
   ]
  },
  {
   "cell_type": "markdown",
   "metadata": {},
   "source": [
    "We have multiple measurements $l_i$ at angular positions $\\phi_i$. We want to determine parameters $p = [u, t, p, \\phi_t, \\phi_p]$, which minimizes deviations to the model $f$:"
   ]
  },
  {
   "cell_type": "code",
   "execution_count": 10,
   "metadata": {
    "collapsed": false
   },
   "outputs": [
    {
     "data": {
      "text/latex": [
       "$$p \\sin{\\left (2 \\phi + 2 \\phi_p \\right )} + t \\sin{\\left (\\phi + \\phi_t \\right )} + u$$"
      ],
      "text/plain": [
       "p⋅sin(2⋅\\phi + 2⋅\\phiₚ) + t⋅sin(\\phi + \\phiₜ) + u"
      ]
     },
     "execution_count": 10,
     "metadata": {},
     "output_type": "execute_result"
    }
   ],
   "source": [
    "f = u + t*sin(phi+phi_t) + p *sin(2*(phi+phi_p))\n",
    "f"
   ]
  },
  {
   "cell_type": "markdown",
   "metadata": {},
   "source": [
    "The non-linear and periodic nature of $\\phi_t$ and $\\phi_p$ make it difficult in the optimization steps. We replace the model by an equivalent one, using $sin$ and $cos$ to represent a sine function with phase shift."
   ]
  },
  {
   "cell_type": "code",
   "execution_count": 29,
   "metadata": {
    "collapsed": false
   },
   "outputs": [
    {
     "data": {
      "text/latex": [
       "$$p_{1} \\sin{\\left (2 \\phi \\right )} + p_{2} \\cos{\\left (2 \\phi \\right )} + t_{1} \\sin{\\left (\\phi \\right )} + t_{2} \\cos{\\left (\\phi \\right )} + u$$"
      ],
      "text/plain": [
       "p₁⋅sin(2⋅\\phi) + p₂⋅cos(2⋅\\phi) + t₁⋅sin(\\phi) + t₂⋅cos(\\phi) + u"
      ]
     },
     "execution_count": 29,
     "metadata": {},
     "output_type": "execute_result"
    }
   ],
   "source": [
    "t1, t2, p1, p2 = symbols('t_1, t_2, p_1, p_2')\n",
    "f = u + t1 * sin(phi) + t2 * cos(phi) + p1 * sin(2*phi) + p2 * cos(2*phi)\n",
    "\n",
    "f"
   ]
  },
  {
   "cell_type": "markdown",
   "metadata": {},
   "source": [
    "with $t$ and $p$ to be reconstructed as follows:"
   ]
  },
  {
   "cell_type": "code",
   "execution_count": 30,
   "metadata": {
    "collapsed": false
   },
   "outputs": [
    {
     "data": {
      "text/latex": [
       "$$\\sqrt{t_{1}^{2} + t_{2}^{2}}$$"
      ],
      "text/plain": [
       "   ___________\n",
       "  ╱   2     2 \n",
       "╲╱  t₁  + t₂  "
      ]
     },
     "execution_count": 30,
     "metadata": {},
     "output_type": "execute_result"
    }
   ],
   "source": [
    "t = sqrt(t1**2+t2**2)\n",
    "t"
   ]
  },
  {
   "cell_type": "markdown",
   "metadata": {},
   "source": [
    "and $p$ likewise."
   ]
  },
  {
   "cell_type": "markdown",
   "metadata": {},
   "source": [
    "We later will measure several points on the curve at positions $\\phi_i$. We collect those observations within a vector $l=[l_1, l_2,...,l_k]$.\n",
    "The above model equation $f$ depends on a set of parameters. We collect all parameters in a vector $p=[u, t_1, t_2, p_1, p_2]$.\n",
    "\n",
    "Deviations between model and measurements can be written as $v_i = f(p, \\phi_i) - l_i$. We can create a vector of deviations $v = [v_i]$.\n",
    "\n",
    "Then the parameter fit needs to minimize $\\Omega = v^T\\,v$ by selecting an optimal set of parameters $p$."
   ]
  },
  {
   "cell_type": "markdown",
   "metadata": {},
   "source": [
    "We do this by iterative parameter improvements. We need to calculate the change of a deviation $v_i$ with respect to changes in a parameter $p_j$. Then we can do a non-linear least-squares minimization.\n",
    "\n",
    "Formally we are looking for a Jacobian matrix like $J = [\\frac{\\partial v_i}{\\partial p_j}]$, with the rows of $J$ corresponding to the different measurements, columns to different parameters."
   ]
  },
  {
   "cell_type": "markdown",
   "metadata": {},
   "source": [
    "The rows will differ only in $\\phi$. We can describe the row derrivative vector $j_i(\\phi_i) = \\left[ \\frac{\\partial v_i}{\\partial u} \\frac{\\partial v_i}{\\partial t_1} \\frac{\\partial v_i}{\\partial t_2} \\frac{\\partial v_i}{\\partial p_1}  \\frac{\\partial v_i}{\\partial p_2}\\right]$ corresponding to the $i$-th measurement at angle $\\phi_i$."
   ]
  },
  {
   "cell_type": "code",
   "execution_count": 36,
   "metadata": {
    "collapsed": false,
    "scrolled": false
   },
   "outputs": [
    {
     "data": {
      "text/latex": [
       "$$\\left [ 1, \\quad \\sin{\\left (\\phi \\right )}, \\quad \\cos{\\left (\\phi \\right )}, \\quad \\sin{\\left (2 \\phi \\right )}, \\quad \\cos{\\left (2 \\phi \\right )}\\right ]$$"
      ],
      "text/plain": [
       "[1, sin(\\phi), cos(\\phi), sin(2⋅\\phi), cos(2⋅\\phi)]"
      ]
     },
     "execution_count": 36,
     "metadata": {},
     "output_type": "execute_result"
    }
   ],
   "source": [
    "v_sym = f - l_sym\n",
    "\n",
    "j_i = [diff(v_sym, u), diff(v_sym, t1), diff(v_sym, t2), diff(v_sym,p1), diff(v_sym, p2)]\n",
    "j_i\n"
   ]
  },
  {
   "cell_type": "markdown",
   "metadata": {},
   "source": [
    "## Substitution for measurement setup"
   ]
  },
  {
   "cell_type": "markdown",
   "metadata": {},
   "source": [
    "For the concrete measurement setup, we will have $k$ autocollimators measuring values. For convenience, we place them on equal angles around the module.\n",
    "Knowing the position of the AC, we can now generate the matrix $J$ for this specific measurement setup (which will later on have an influence on the accuracy of the measurement setup)."
   ]
  },
  {
   "cell_type": "code",
   "execution_count": 143,
   "metadata": {
    "collapsed": false,
    "scrolled": false
   },
   "outputs": [
    {
     "name": "stdout",
     "output_type": "stream",
     "text": [
      "Matrix([[1, sin(\\phi), cos(\\phi), sin(2*\\phi), cos(2*\\phi)]])\n",
      "phi_i is:  5.49778714378\n",
      "expression is:  Matrix([[1, 0.707106781186230, 0.707106781186865, 1.00000000000000, 8.96677347027234e-13]])\n"
     ]
    },
    {
     "data": {
      "text/latex": [
       "$$\\left[\\begin{matrix}1 & 0 & 1 & 0 & 1\\\\1 & 0.707106781186547 & 0.707106781186548 & 1.0 & 6.12323399573677 \\cdot 10^{-17}\\\\1 & 1.0 & 6.12323399573677 \\cdot 10^{-17} & 1.22464679914735 \\cdot 10^{-16} & -1.0\\\\1 & 0.707106781186548 & -0.707106781186547 & -1.0 & -1.83697019872103 \\cdot 10^{-16}\\\\1 & 1.22464679914735 \\cdot 10^{-16} & -1.0 & -2.44929359829471 \\cdot 10^{-16} & 1.0\\\\1 & -0.707106781186547 & -0.707106781186548 & 1.0 & 3.06161699786838 \\cdot 10^{-16}\\\\1 & -1.0 & -1.83697019872103 \\cdot 10^{-16} & 3.67394039744206 \\cdot 10^{-16} & -1.0\\\\1 & -0.707106781186548 & 0.707106781186547 & -1.0 & -4.28626379701574 \\cdot 10^{-16}\\end{matrix}\\right]$$"
      ],
      "text/plain": [
       "⎡1           0                      1                      0                  \n",
       "⎢                                                                             \n",
       "⎢1   0.707106781186547      0.707106781186548             1.0           6.1232\n",
       "⎢                                                                             \n",
       "⎢1          1.0           6.12323399573677e-17   1.22464679914735e-16         \n",
       "⎢                                                                             \n",
       "⎢1   0.707106781186548     -0.707106781186547            -1.0           -1.836\n",
       "⎢                                                                             \n",
       "⎢1  1.22464679914735e-16          -1.0           -2.44929359829471e-16        \n",
       "⎢                                                                             \n",
       "⎢1   -0.707106781186547    -0.707106781186548             1.0           3.0616\n",
       "⎢                                                                             \n",
       "⎢1          -1.0          -1.83697019872103e-16  3.67394039744206e-16         \n",
       "⎢                                                                             \n",
       "⎣1   -0.707106781186548     0.707106781186547            -1.0           -4.286\n",
       "\n",
       "    1          ⎤\n",
       "               ⎥\n",
       "3399573677e-17 ⎥\n",
       "               ⎥\n",
       "  -1.0         ⎥\n",
       "               ⎥\n",
       "97019872103e-16⎥\n",
       "               ⎥\n",
       "   1.0         ⎥\n",
       "               ⎥\n",
       "1699786838e-16 ⎥\n",
       "               ⎥\n",
       "  -1.0         ⎥\n",
       "               ⎥\n",
       "26379701574e-16⎦"
      ]
     },
     "execution_count": 143,
     "metadata": {},
     "output_type": "execute_result"
    }
   ],
   "source": [
    "# measurement setup angles phi_i\n",
    "k = 8;\n",
    "phis = np.linspace(0, 2*np.pi, k, endpoint=False)\n",
    "# plug in phi_i values\n",
    "j_row = Matrix(j_i).T\n",
    "print(j_row)\n",
    "J = Matrix([j_row.subs({phi:phi_i}) for phi_i in phis])\n",
    "print(\"phi_i is: \", phi_i)\n",
    "print(\"expression is: \",j_row.subs({phi:0.785398163397}))\n",
    "phis = np.linspace(0, 2*np.pi, k, endpoint=False)\n",
    "J\n"
   ]
  },
  {
   "cell_type": "markdown",
   "metadata": {},
   "source": [
    "## Initial parameters"
   ]
  },
  {
   "cell_type": "markdown",
   "metadata": {},
   "source": [
    "We need to choose initial values for our parameter vector. Not knowing anything about the module, we expect the errors to be small. So we choose $p_0 = [0, 0, 0, 0, 0]$.\n",
    "\n",
    "To separate the parameter estimate $p_n$ from the potato chip amplitude $p$, we use pn as variable for the parameter estimate"
   ]
  },
  {
   "cell_type": "code",
   "execution_count": 44,
   "metadata": {
    "collapsed": true
   },
   "outputs": [],
   "source": [
    "# p0 - parameter vector p = [u, t1, t2, p1, p2]\n",
    "pn = np.array((0,0,0,0,0))"
   ]
  },
  {
   "cell_type": "markdown",
   "metadata": {},
   "source": [
    "## Create synthetic measurement data\n",
    "\n",
    "Now we would be ready to make use of measurement data in form of a vector $l$.\n",
    "\n",
    "Unfortunately, there's no real measurement data at hand. So we create synthetic data to have numbers to perform the calculation below.\n",
    "Let's assume, we have a perfect module, slightly tilted ($p_{true}=[0, 10^{-4}, 0, 0, 0]$), and the autocollimators read values with measurement noise of $1$ arc second, then $\\sigma_{AC} = 1/3600 * \\frac{\\pi}{180}$."
   ]
  },
  {
   "cell_type": "code",
   "execution_count": 98,
   "metadata": {
    "collapsed": false
   },
   "outputs": [
    {
     "data": {
      "text/latex": [
       "$$4.8481368111e-06$$"
      ],
      "text/plain": [
       "4.8481368111e-06"
      ]
     },
     "execution_count": 98,
     "metadata": {},
     "output_type": "execute_result"
    }
   ],
   "source": [
    "s_AC = np.deg2rad(1/3600)\n",
    "s_AC"
   ]
  },
  {
   "cell_type": "code",
   "execution_count": 152,
   "metadata": {
    "collapsed": false
   },
   "outputs": [
    {
     "data": {
      "text/plain": [
       "array([  4.77644622e-06,   7.32855469e-05,   9.14917057e-05,\n",
       "         7.47618906e-05,   1.46645825e-05,  -6.89595486e-05,\n",
       "        -9.13289208e-05,  -7.44017334e-05])"
      ]
     },
     "execution_count": 152,
     "metadata": {},
     "output_type": "execute_result"
    }
   ],
   "source": [
    "l = np.array([ 1e-4*np.sin(phi_i) + s_AC*np.random.randn() for phi_i in phis])\n",
    "l"
   ]
  },
  {
   "cell_type": "markdown",
   "metadata": {},
   "source": [
    "To illustrate, let's quickly draw the measurements"
   ]
  },
  {
   "cell_type": "code",
   "execution_count": 117,
   "metadata": {
    "collapsed": false,
    "scrolled": true
   },
   "outputs": [
    {
     "data": {
      "text/plain": [
       "<matplotlib.text.Text at 0x9c82518>"
      ]
     },
     "execution_count": 117,
     "metadata": {},
     "output_type": "execute_result"
    },
    {
     "data": {
      "image/png": "[encoded data removed]",
      "text/plain": [
       "<matplotlib.figure.Figure at 0x9cb5e48>"
      ]
     },
     "metadata": {},
     "output_type": "display_data"
    }
   ],
   "source": [
    "plt.plot(np.rad2deg(phis), l, '*-')\n",
    "plt.xlim([0, 360])\n",
    "plt.xlabel('\\phi in degrees')\n",
    "plt.ylabel('measurement data')"
   ]
  },
  {
   "cell_type": "markdown",
   "metadata": {},
   "source": [
    "## Iteration procedure"
   ]
  },
  {
   "cell_type": "markdown",
   "metadata": {},
   "source": [
    "We now iterate. To illustrate the process, we run the first iteration in detail and further iterations again below."
   ]
  },
  {
   "cell_type": "markdown",
   "metadata": {},
   "source": [
    "### Calculate difference between current model estimate and measurements"
   ]
  },
  {
   "cell_type": "markdown",
   "metadata": {},
   "source": [
    "By fixing a parameter estimate $pn$, we settle on one shape that the laser plane should take in our measurements. This is a function $fn(\\phi)$ and is given by the term below."
   ]
  },
  {
   "cell_type": "code",
   "execution_count": 146,
   "metadata": {
    "collapsed": false
   },
   "outputs": [
    {
     "name": "stdout",
     "output_type": "stream",
     "text": [
      "{u: 0, t_2: 0, p_2: 0, t_1: 0, p_1: 0}\n"
     ]
    },
    {
     "data": {
      "text/latex": [
       "$$0.0$$"
      ],
      "text/plain": [
       "0.0"
      ]
     },
     "execution_count": 146,
     "metadata": {},
     "output_type": "execute_result"
    }
   ],
   "source": [
    "# store parameter substitutions, as they will be reused to calculate N below.\n",
    "subsDict = {u:pn[0], t1:pn[1], t2:pn[2], p1:pn[3], p2:pn[4]}\n",
    "print(subsDict)\n",
    "fn = f.subs(subsDict)\n",
    "fn\n"
   ]
  },
  {
   "cell_type": "markdown",
   "metadata": {},
   "source": [
    "To compare, how well our model fits, we evaluate the model at our measurement positions and consider the difference between model and measurements to obtain $v$."
   ]
  },
  {
   "cell_type": "code",
   "execution_count": 129,
   "metadata": {
    "collapsed": false,
    "scrolled": true
   },
   "outputs": [
    {
     "name": "stdout",
     "output_type": "stream",
     "text": [
      "0.0\n"
     ]
    },
    {
     "data": {
      "text/latex": [
       "$$\\left [ 0.0, \\quad 0.0, \\quad 0.0, \\quad 0.0, \\quad 0.0, \\quad 0.0, \\quad 0.0, \\quad 0.0\\right ]$$"
      ],
      "text/plain": [
       "[0.0, 0.0, 0.0, 0.0, 0.0, 0.0, 0.0, 0.0]"
      ]
     },
     "execution_count": 129,
     "metadata": {},
     "output_type": "execute_result"
    }
   ],
   "source": [
    "l_est = [fn.subs({phi:phi_i}) for phi_i in phis]\n",
    "print(fn.subs({phi:phi_i}))\n",
    "l_est"
   ]
  },
  {
   "cell_type": "markdown",
   "metadata": {},
   "source": [
    "Let's check graphically, how our model fits to the measurements."
   ]
  },
  {
   "cell_type": "code",
   "execution_count": 124,
   "metadata": {
    "collapsed": false
   },
   "outputs": [
    {
     "data": {
      "image/png": "[encoded data removed]",
      "text/plain": [
       "<matplotlib.figure.Figure at 0x9ef6d68>"
      ]
     },
     "metadata": {},
     "output_type": "display_data"
    }
   ],
   "source": [
    "def plotModel(phis, fn, l):\n",
    "    plt.plot(np.rad2deg(phis), l, '*')\n",
    "    fn_modelFunc = np.vectorize(lambdify(phi, fn))\n",
    "    xplot = np.linspace(0, 2*np.pi)\n",
    "    plt.plot(np.rad2deg(xplot), fn_modelFunc(xplot))\n",
    "\n",
    "    plt.legend(['measurements', 'model'])\n",
    "    plt.xlabel(r'$\\phi$ $[^\\circ]$')\n",
    "    plt.ylabel('line angle $[rad]$')\n",
    "    \n",
    "plotModel(phis, fn, l)"
   ]
  },
  {
   "cell_type": "code",
   "execution_count": 154,
   "metadata": {
    "collapsed": false
   },
   "outputs": [
    {
     "name": "stdout",
     "output_type": "stream",
     "text": [
      "[  4.77644622e-06   7.32855469e-05   9.14917057e-05   7.47618906e-05\n",
      "   1.46645825e-05  -6.89595486e-05  -9.13289208e-05  -7.44017334e-05]\n",
      "[-4.77644622082425e-6 -7.32855468955243e-5 -9.14917056696936e-5\n",
      " -7.47618906217036e-5 -1.46645825046077e-5 6.89595485802005e-5\n",
      " 9.13289208427197e-5 7.44017334302194e-5]\n"
     ]
    }
   ],
   "source": [
    "v = l_est - l\n",
    "print(l)\n",
    "print(v)"
   ]
  },
  {
   "cell_type": "markdown",
   "metadata": {},
   "source": [
    "### Derive change to parameter estimate to improve fit\n",
    "\n",
    "We use the Jacobian matrix determined above to obtain an adjustment to our parameter vector, which will reduce the residuals.\n",
    "\n",
    "By playing around with the matrix equations, we can find an elegant way to obtain this estimate by looking at a so-called normal equation matrix $N = J^T\\,J$ and a vector $n = J^T\\,v$. This allows to solve the smaller system of equations $n = N \\, dp$, solving for dp."
   ]
  },
  {
   "cell_type": "code",
   "execution_count": 174,
   "metadata": {
    "collapsed": false,
    "scrolled": true
   },
   "outputs": [
    {
     "name": "stdout",
     "output_type": "stream",
     "text": [
      "{u: 0, t_2: 0, p_2: 0, t_1: 0, p_1: 0}\n"
     ]
    }
   ],
   "source": [
    "print(subsDict)\n",
    "Jn = J.subs(subsDict)\n",
    "Jn\n",
    "N = Jn.T * Jn\n",
    "n = Jn.T * v"
   ]
  },
  {
   "cell_type": "code",
   "execution_count": 172,
   "metadata": {
    "collapsed": false,
    "scrolled": false
   },
   "outputs": [
    {
     "data": {
      "text/latex": [
       "$$\\left[\\begin{matrix}1 & 0 & 1 & 0 & 1\\\\1 & 0.707106781186547 & 0.707106781186548 & 1.0 & 6.12323399573677 \\cdot 10^{-17}\\\\1 & 1.0 & 6.12323399573677 \\cdot 10^{-17} & 1.22464679914735 \\cdot 10^{-16} & -1.0\\\\1 & 0.707106781186548 & -0.707106781186547 & -1.0 & -1.83697019872103 \\cdot 10^{-16}\\\\1 & 1.22464679914735 \\cdot 10^{-16} & -1.0 & -2.44929359829471 \\cdot 10^{-16} & 1.0\\\\1 & -0.707106781186547 & -0.707106781186548 & 1.0 & 3.06161699786838 \\cdot 10^{-16}\\\\1 & -1.0 & -1.83697019872103 \\cdot 10^{-16} & 3.67394039744206 \\cdot 10^{-16} & -1.0\\\\1 & -0.707106781186548 & 0.707106781186547 & -1.0 & -4.28626379701574 \\cdot 10^{-16}\\end{matrix}\\right]$$"
      ],
      "text/plain": [
       "⎡1           0                      1                      0                  \n",
       "⎢                                                                             \n",
       "⎢1   0.707106781186547      0.707106781186548             1.0           6.1232\n",
       "⎢                                                                             \n",
       "⎢1          1.0           6.12323399573677e-17   1.22464679914735e-16         \n",
       "⎢                                                                             \n",
       "⎢1   0.707106781186548     -0.707106781186547            -1.0           -1.836\n",
       "⎢                                                                             \n",
       "⎢1  1.22464679914735e-16          -1.0           -2.44929359829471e-16        \n",
       "⎢                                                                             \n",
       "⎢1   -0.707106781186547    -0.707106781186548             1.0           3.0616\n",
       "⎢                                                                             \n",
       "⎢1          -1.0          -1.83697019872103e-16  3.67394039744206e-16         \n",
       "⎢                                                                             \n",
       "⎣1   -0.707106781186548     0.707106781186547            -1.0           -4.286\n",
       "\n",
       "    1          ⎤\n",
       "               ⎥\n",
       "3399573677e-17 ⎥\n",
       "               ⎥\n",
       "  -1.0         ⎥\n",
       "               ⎥\n",
       "97019872103e-16⎥\n",
       "               ⎥\n",
       "   1.0         ⎥\n",
       "               ⎥\n",
       "1699786838e-16 ⎥\n",
       "               ⎥\n",
       "  -1.0         ⎥\n",
       "               ⎥\n",
       "26379701574e-16⎦"
      ]
     },
     "execution_count": 172,
     "metadata": {},
     "output_type": "execute_result"
    }
   ],
   "source": [
    "J"
   ]
  },
  {
   "cell_type": "code",
   "execution_count": 173,
   "metadata": {
    "collapsed": false
   },
   "outputs": [
    {
     "data": {
      "text/latex": [
       "$$\\left[\\begin{matrix}1 & 0 & 1 & 0 & 1\\\\1 & 0.707106781186547 & 0.707106781186548 & 1.0 & 6.12323399573677 \\cdot 10^{-17}\\\\1 & 1.0 & 6.12323399573677 \\cdot 10^{-17} & 1.22464679914735 \\cdot 10^{-16} & -1.0\\\\1 & 0.707106781186548 & -0.707106781186547 & -1.0 & -1.83697019872103 \\cdot 10^{-16}\\\\1 & 1.22464679914735 \\cdot 10^{-16} & -1.0 & -2.44929359829471 \\cdot 10^{-16} & 1.0\\\\1 & -0.707106781186547 & -0.707106781186548 & 1.0 & 3.06161699786838 \\cdot 10^{-16}\\\\1 & -1.0 & -1.83697019872103 \\cdot 10^{-16} & 3.67394039744206 \\cdot 10^{-16} & -1.0\\\\1 & -0.707106781186548 & 0.707106781186547 & -1.0 & -4.28626379701574 \\cdot 10^{-16}\\end{matrix}\\right]$$"
      ],
      "text/plain": [
       "⎡1           0                      1                      0                  \n",
       "⎢                                                                             \n",
       "⎢1   0.707106781186547      0.707106781186548             1.0           6.1232\n",
       "⎢                                                                             \n",
       "⎢1          1.0           6.12323399573677e-17   1.22464679914735e-16         \n",
       "⎢                                                                             \n",
       "⎢1   0.707106781186548     -0.707106781186547            -1.0           -1.836\n",
       "⎢                                                                             \n",
       "⎢1  1.22464679914735e-16          -1.0           -2.44929359829471e-16        \n",
       "⎢                                                                             \n",
       "⎢1   -0.707106781186547    -0.707106781186548             1.0           3.0616\n",
       "⎢                                                                             \n",
       "⎢1          -1.0          -1.83697019872103e-16  3.67394039744206e-16         \n",
       "⎢                                                                             \n",
       "⎣1   -0.707106781186548     0.707106781186547            -1.0           -4.286\n",
       "\n",
       "    1          ⎤\n",
       "               ⎥\n",
       "3399573677e-17 ⎥\n",
       "               ⎥\n",
       "  -1.0         ⎥\n",
       "               ⎥\n",
       "97019872103e-16⎥\n",
       "               ⎥\n",
       "   1.0         ⎥\n",
       "               ⎥\n",
       "1699786838e-16 ⎥\n",
       "               ⎥\n",
       "  -1.0         ⎥\n",
       "               ⎥\n",
       "26379701574e-16⎦"
      ]
     },
     "execution_count": 173,
     "metadata": {},
     "output_type": "execute_result"
    }
   ],
   "source": [
    "Jn"
   ]
  },
  {
   "cell_type": "markdown",
   "metadata": {},
   "source": [
    "Then we can follow a standard Gauss-Newton (or Levenberg-Marquardt) method to calculate the improved parameters according to:"
   ]
  },
  {
   "cell_type": "code",
   "execution_count": 192,
   "metadata": {
    "collapsed": false
   },
   "outputs": [],
   "source": [
    "dp = N.solve(n)\n",
    "dp\n",
    "N.solve?"
   ]
  },
  {
   "cell_type": "markdown",
   "metadata": {},
   "source": [
    "And obtain improved parameter estimations "
   ]
  },
  {
   "cell_type": "code",
   "execution_count": 175,
   "metadata": {
    "collapsed": false,
    "scrolled": false
   },
   "outputs": [
    {
     "data": {
      "text/latex": [
       "$$\\left[\\begin{matrix}3.03624613240174 \\cdot 10^{-6}\\\\9.72194270468254 \\cdot 10^{-5}\\\\-3.69506868896151 \\cdot 10^{-6}\\\\9.91460280959885 \\cdot 10^{-7}\\\\4.81956097461451 \\cdot 10^{-6}\\end{matrix}\\right]$$"
      ],
      "text/plain": [
       "⎡3.03624613240174e-6 ⎤\n",
       "⎢                    ⎥\n",
       "⎢9.72194270468254e-5 ⎥\n",
       "⎢                    ⎥\n",
       "⎢-3.69506868896151e-6⎥\n",
       "⎢                    ⎥\n",
       "⎢9.91460280959885e-7 ⎥\n",
       "⎢                    ⎥\n",
       "⎣4.81956097461451e-6 ⎦"
      ]
     },
     "execution_count": 175,
     "metadata": {},
     "output_type": "execute_result"
    }
   ],
   "source": [
    "pn = pn - dp\n",
    "pn"
   ]
  },
  {
   "cell_type": "markdown",
   "metadata": {},
   "source": [
    "Repeat the process, until $|dp|$ is below a certain threshold."
   ]
  },
  {
   "cell_type": "code",
   "execution_count": 190,
   "metadata": {
    "collapsed": false
   },
   "outputs": [
    {
     "data": {
      "text/latex": [
       "$$9.7916610264389 \\cdot 10^{-21}$$"
      ],
      "text/plain": [
       "9.79166102643890e-21"
      ]
     },
     "execution_count": 190,
     "metadata": {},
     "output_type": "execute_result"
    }
   ],
   "source": [
    "sqrt(dp.dot(dp))\n"
   ]
  },
  {
   "cell_type": "code",
   "execution_count": 191,
   "metadata": {
    "collapsed": false,
    "scrolled": false
   },
   "outputs": [
    {
     "name": "stdout",
     "output_type": "stream",
     "text": [
      "needed 1 iterations.\n",
      "popt:\n"
     ]
    },
    {
     "data": {
      "text/latex": [
       "$$\\left[\\begin{matrix}3.03624613240174 \\cdot 10^{-6}\\\\9.72194270468254 \\cdot 10^{-5}\\\\-3.69506868896151 \\cdot 10^{-6}\\\\9.91460280959879 \\cdot 10^{-7}\\\\4.8195609746145 \\cdot 10^{-6}\\end{matrix}\\right]$$"
      ],
      "text/plain": [
       "⎡3.03624613240174e-6 ⎤\n",
       "⎢                    ⎥\n",
       "⎢9.72194270468254e-5 ⎥\n",
       "⎢                    ⎥\n",
       "⎢-3.69506868896151e-6⎥\n",
       "⎢                    ⎥\n",
       "⎢9.91460280959879e-7 ⎥\n",
       "⎢                    ⎥\n",
       "⎣ 4.8195609746145e-6 ⎦"
      ]
     },
     "metadata": {},
     "output_type": "display_data"
    },
    {
     "name": "stdout",
     "output_type": "stream",
     "text": [
      "residuals:\n"
     ]
    },
    {
     "data": {
      "text/plain": [
       "array([-6.15707802769515e-7, -3.12613248119637e-6, 3.94440653491908e-6,\n",
       "       -1.35978051546588e-6, -3.11370670862994e-6, 6.85554699259583e-6,\n",
       "       -7.67382104631854e-6, 5.08919502686532e-6], dtype=object)"
      ]
     },
     "metadata": {},
     "output_type": "display_data"
    },
    {
     "name": "stdout",
     "output_type": "stream",
     "text": [
      "target is:  9.79166102643890e-21\n",
      "Couter is:  1\n"
     ]
    },
    {
     "data": {
      "image/png": "[encoded data removed]",
      "text/plain": [
       "<matplotlib.figure.Figure at 0xa2dc278>"
      ]
     },
     "metadata": {},
     "output_type": "display_data"
    }
   ],
   "source": [
    "iterCount = 1 # set to 1, as first iteration is done above.\n",
    "maxNumIter = 50\n",
    "while sqrt(dp.dot(dp))>1e-18 and iterCount < maxNumIter:\n",
    "    subsDict = {u:pn[0], t1:pn[1], t2:pn[2], p1:pn[3], p2:pn[4]}\n",
    "    fn = f.subs(subsDict)\n",
    "    l_est = [fn.subs({phi:phi_i}) for phi_i in phis]\n",
    "    v = l_est - l\n",
    "    Jn = J.subs(subsDict)\n",
    "    N = Jn.T * Jn\n",
    "    n = Jn.T * v\n",
    "    dp = N.solve(n)\n",
    "    print ('dp[{}]'.format(iterCount))\n",
    "    display(dp)\n",
    "    pn = pn - dp\n",
    "    iterCount += 1\n",
    "\n",
    "print ('needed {} iterations.'.format(iterCount))\n",
    "popt = pn\n",
    "print ('popt:')\n",
    "display(popt)\n",
    "\n",
    "print ('residuals:')\n",
    "display(v)\n",
    "\n",
    "plotModel(phis, fn, l)\n",
    "\n",
    "print(\"target is: \",sqrt(dp.dot(dp)))\n",
    "print(\"Couter is: \",iterCount)"
   ]
  },
  {
   "cell_type": "markdown",
   "metadata": {},
   "source": [
    "\n",
    "## Reconstruct $t$ from $t_1, t_2$ and $p$\n",
    "\n",
    "Using trigonometric identities, we can reconstruct $t$ and $p$ as:"
   ]
  },
  {
   "cell_type": "code",
   "execution_count": 207,
   "metadata": {
    "collapsed": false,
    "scrolled": true
   },
   "outputs": [
    {
     "name": "stdout",
     "output_type": "stream",
     "text": [
      "t:\n"
     ]
    },
    {
     "data": {
      "text/latex": [
       "$$\\sqrt{t_{1}^{2} + t_{2}^{2}}$$"
      ],
      "text/plain": [
       "   ___________\n",
       "  ╱   2     2 \n",
       "╲╱  t₁  + t₂  "
      ]
     },
     "metadata": {},
     "output_type": "display_data"
    },
    {
     "name": "stdout",
     "output_type": "stream",
     "text": [
      "p:\n"
     ]
    },
    {
     "data": {
      "text/latex": [
       "$$\\sqrt{p_{1}^{2} + p_{2}^{2}}$$"
      ],
      "text/plain": [
       "   ___________\n",
       "  ╱   2     2 \n",
       "╲╱  p₁  + p₂  "
      ]
     },
     "metadata": {},
     "output_type": "display_data"
    },
    {
     "name": "stdout",
     "output_type": "stream",
     "text": [
      "umbrella: 0.03mm@10m, tilt: 0.97mm@10m, potato: 0.05mm@10m\n"
     ]
    }
   ],
   "source": [
    "u_v = pn[0]\n",
    "t1_v = pn[1]\n",
    "t2_v = pn[2]\n",
    "p1_v = pn[3]\n",
    "p2_v = pn[4]\n",
    "t = sqrt(t1**2+t2**2)\n",
    "p = sqrt(p1**2+p2**2)\n",
    "print ('t:')\n",
    "display(t)\n",
    "print ('p:')\n",
    "display(p)\n",
    "\n",
    "paraValueSubs = {t1:t1_v, t2:t2_v, p1:p1_v, p2:p2_v}\n",
    "\n",
    "print('umbrella: {:3.2f}mm@10m, tilt: {:3.2f}mm@10m, potato: {:3.2f}mm@10m'\n",
    "            .format(u_v*1e4, t.subs(paraValueSubs)*1e4, p.subs(paraValueSubs)*1e4))"
   ]
  },
  {
   "cell_type": "markdown",
   "metadata": {},
   "source": [
    "## Error/uncertanity model fit evaluation\n",
    "\n",
    "After obtaining a fit, we could control the obtained solution to estimate the measurement uncertainty (if sufficient values are available) by looking at $\\hat{s}_0^2 = v^Tv/(k-5)$. Unfortunately, as $k$ is only slightly larger than the number of parameters, this estimate is not reliable."
   ]
  },
  {
   "cell_type": "code",
   "execution_count": 208,
   "metadata": {
    "collapsed": false
   },
   "outputs": [
    {
     "name": "stdout",
     "output_type": "stream",
     "text": [
      "estimated measurement uncertainty: 0.08 mm@10m\n"
     ]
    }
   ],
   "source": [
    "s0_est = sqrt(v.T.dot(v) / (k-5))\n",
    "print ('estimated measurement uncertainty: {:3.1} mm@10m'.format(s0_est*1e4))"
   ]
  },
  {
   "cell_type": "code",
   "execution_count": 209,
   "metadata": {
    "collapsed": false
   },
   "outputs": [
    {
     "data": {
      "text/latex": [
       "$$\\left[\\begin{matrix}8 & -2.22044604925031 \\cdot 10^{-16} & -5.55111512312578 \\cdot 10^{-16} & 4.44089209850063 \\cdot 10^{-16} & -4.28626379701574 \\cdot 10^{-16}\\\\-2.22044604925031 \\cdot 10^{-16} & 4.0 & 3.33066907387547 \\cdot 10^{-16} & -1.11022302462516 \\cdot 10^{-16} & 8.10400147573914 \\cdot 10^{-17}\\\\-5.55111512312578 \\cdot 10^{-16} & 3.33066907387547 \\cdot 10^{-16} & 4.0 & 1.11022302462516 \\cdot 10^{-16} & -3.35876613869193 \\cdot 10^{-16}\\\\4.44089209850063 \\cdot 10^{-16} & -1.11022302462516 \\cdot 10^{-16} & 1.11022302462516 \\cdot 10^{-16} & 4.0 & 2.44929359829471 \\cdot 10^{-16}\\\\-4.28626379701574 \\cdot 10^{-16} & 8.10400147573914 \\cdot 10^{-17} & -3.35876613869193 \\cdot 10^{-16} & 2.44929359829471 \\cdot 10^{-16} & 4.0\\end{matrix}\\right]$$"
      ],
      "text/plain": [
       "⎡          8            -2.22044604925031e-16  -5.55111512312578e-16  4.440892\n",
       "⎢                                                                             \n",
       "⎢-2.22044604925031e-16           4.0           3.33066907387547e-16   -1.11022\n",
       "⎢                                                                             \n",
       "⎢-5.55111512312578e-16  3.33066907387547e-16            4.0           1.110223\n",
       "⎢                                                                             \n",
       "⎢4.44089209850063e-16   -1.11022302462516e-16  1.11022302462516e-16           \n",
       "⎢                                                                             \n",
       "⎣-4.28626379701574e-16  8.10400147573914e-17   -3.35876613869193e-16  2.449293\n",
       "\n",
       "09850063e-16   -4.28626379701574e-16⎤\n",
       "                                    ⎥\n",
       "302462516e-16  8.10400147573914e-17 ⎥\n",
       "                                    ⎥\n",
       "02462516e-16   -3.35876613869193e-16⎥\n",
       "                                    ⎥\n",
       " 4.0           2.44929359829471e-16 ⎥\n",
       "                                    ⎥\n",
       "59829471e-16            4.0         ⎦"
      ]
     },
     "execution_count": 209,
     "metadata": {},
     "output_type": "execute_result"
    }
   ],
   "source": [
    "Qxx = N.inv()\n",
    "N"
   ]
  },
  {
   "cell_type": "code",
   "execution_count": 202,
   "metadata": {
    "collapsed": false
   },
   "outputs": [
    {
     "data": {
      "text/latex": [
       "$$\\left[\\begin{matrix}0.125 & 6.93889390390723 \\cdot 10^{-18} & 1.73472347597681 \\cdot 10^{-17} & -1.38777878078145 \\cdot 10^{-17} & 1.33945743656742 \\cdot 10^{-17}\\\\6.93889390390723 \\cdot 10^{-18} & 0.25 & -2.08166817117217 \\cdot 10^{-17} & 6.93889390390723 \\cdot 10^{-18} & -5.06500092233697 \\cdot 10^{-18}\\\\1.73472347597681 \\cdot 10^{-17} & -2.08166817117217 \\cdot 10^{-17} & 0.25 & -6.93889390390723 \\cdot 10^{-18} & 2.09922883668246 \\cdot 10^{-17}\\\\-1.38777878078145 \\cdot 10^{-17} & 6.93889390390723 \\cdot 10^{-18} & -6.93889390390723 \\cdot 10^{-18} & 0.25 & -1.53080849893419 \\cdot 10^{-17}\\\\1.33945743656742 \\cdot 10^{-17} & -5.06500092233697 \\cdot 10^{-18} & 2.09922883668246 \\cdot 10^{-17} & -1.53080849893419 \\cdot 10^{-17} & 0.25\\end{matrix}\\right]$$"
      ],
      "text/plain": [
       "⎡        0.125          6.93889390390723e-18   1.73472347597681e-17   -1.38777\n",
       "⎢                                                                             \n",
       "⎢6.93889390390723e-18           0.25           -2.08166817117217e-17  6.938893\n",
       "⎢                                                                             \n",
       "⎢1.73472347597681e-17   -2.08166817117217e-17          0.25           -6.93889\n",
       "⎢                                                                             \n",
       "⎢-1.38777878078145e-17  6.93889390390723e-18   -6.93889390390723e-18          \n",
       "⎢                                                                             \n",
       "⎣1.33945743656742e-17   -5.06500092233697e-18  2.09922883668246e-17   -1.53080\n",
       "\n",
       "878078145e-17  1.33945743656742e-17 ⎤\n",
       "                                    ⎥\n",
       "90390723e-18   -5.06500092233697e-18⎥\n",
       "                                    ⎥\n",
       "390390723e-18  2.09922883668246e-17 ⎥\n",
       "                                    ⎥\n",
       "0.25           -1.53080849893419e-17⎥\n",
       "                                    ⎥\n",
       "849893419e-17          0.25         ⎦"
      ]
     },
     "execution_count": 202,
     "metadata": {},
     "output_type": "execute_result"
    }
   ],
   "source": [
    "Qxx"
   ]
  },
  {
   "cell_type": "code",
   "execution_count": null,
   "metadata": {
    "collapsed": true
   },
   "outputs": [],
   "source": []
  },
  {
   "cell_type": "code",
   "execution_count": null,
   "metadata": {
    "collapsed": true
   },
   "outputs": [],
   "source": []
  },
  {
   "cell_type": "markdown",
   "metadata": {},
   "source": [
    "To make sense of $Q_{xx}$, we need to reconstruct u, t, and p from $pn$ and check for error propagation of the covariance from $Q_{xx}$ to the new covariance matrix."
   ]
  },
  {
   "cell_type": "code",
   "execution_count": 211,
   "metadata": {
    "collapsed": false,
    "scrolled": false
   },
   "outputs": [
    {
     "name": "stdout",
     "output_type": "stream",
     "text": [
      "{t_2: -3.69506868896151e-6, p_2: 4.81956097461450e-6, t_1: 9.72194270468254e-5, p_1: 9.91460280959879e-7}\n"
     ]
    },
    {
     "data": {
      "text/latex": [
       "$$\\left[\\begin{matrix}0.125 & 6.27503791053967 \\cdot 10^{-18} & 1.03235157085053 \\cdot 10^{-17}\\\\6.27503791053967 \\cdot 10^{-18} & 0.25 & -4.28821401301272 \\cdot 10^{-18}\\\\1.03235157085053 \\cdot 10^{-17} & -4.28821401301271 \\cdot 10^{-18} & 0.25\\end{matrix}\\right]$$"
      ],
      "text/plain": [
       "⎡       0.125          6.27503791053967e-18   1.03235157085053e-17 ⎤\n",
       "⎢                                                                  ⎥\n",
       "⎢6.27503791053967e-18          0.25           -4.28821401301272e-18⎥\n",
       "⎢                                                                  ⎥\n",
       "⎣1.03235157085053e-17  -4.28821401301271e-18          0.25         ⎦"
      ]
     },
     "execution_count": 211,
     "metadata": {},
     "output_type": "execute_result"
    }
   ],
   "source": [
    "dtdt1 = diff(t, t1).subs(paraValueSubs)\n",
    "dtdt2 = diff(t, t2).subs(paraValueSubs)\n",
    "dpdp1 = diff(p, p1).subs(paraValueSubs)\n",
    "dpdp2 = diff(p, p2).subs(paraValueSubs)\n",
    "print(paraValueSubs)\n",
    "\n",
    "J_xk = np.array([[1, 0, 0, 0, 0], [0, dtdt1, dtdt2, 0, 0], [0, 0, 0, dpdp1, dpdp2]])\n",
    "Q_xk = J_xk * Qxx * J_xk.T\n",
    "Q_xk"
   ]
  },
  {
   "cell_type": "code",
   "execution_count": 212,
   "metadata": {
    "collapsed": true
   },
   "outputs": [],
   "source": [
    "diff?"
   ]
  },
  {
   "cell_type": "markdown",
   "metadata": {},
   "source": [
    "Note, that the covariance matrix is still mainly diagonal. So $u$, $t$ and $p$ remain mainly uncorrelated. As a consequence, we can ignore the off-diagonal elements and concentrate on the diagonal elements to provide an uncertainty for the parameters itself."
   ]
  },
  {
   "cell_type": "code",
   "execution_count": 25,
   "metadata": {
    "collapsed": false
   },
   "outputs": [
    {
     "data": {
      "text/plain": [
       "array([ 0.35355339,  0.5       ,  0.5       ])"
      ]
     },
     "execution_count": 25,
     "metadata": {},
     "output_type": "execute_result"
    }
   ],
   "source": [
    "q_p = np.sqrt(np.array(np.diag(Q_xk), dtype=np.float))\n",
    "q_p"
   ]
  },
  {
   "cell_type": "markdown",
   "metadata": {},
   "source": [
    "This means, that our setup roughly will reproduct the umbrella angle with 40% of the uncertainty of the autocollimator and the tilt and potato chip amplitude with 50-60%. The reason for this increase in certainty is due to the averaging."
   ]
  },
  {
   "cell_type": "markdown",
   "metadata": {},
   "source": [
    "We have only a few measurements $k$ more than the number of parameters ($5$). So, we cannot really trust $\\hat{s}_0$. That is why we use the known measurement uncertainty $\\sigma_{AC}$ and determine an estimate the uncertainty for the estimated parameters as obtained through error propagation."
   ]
  },
  {
   "cell_type": "code",
   "execution_count": 26,
   "metadata": {
    "collapsed": false
   },
   "outputs": [
    {
     "name": "stdout",
     "output_type": "stream",
     "text": [
      "uncertainty s_u: 0.02mm@10m, s_t: 0.02mm@10m, s_p: 0.02mm@10m\n"
     ]
    }
   ],
   "source": [
    "s_p = s_AC * q_p\n",
    "print ('uncertainty s_u: {:3.1}mm@10m, s_t: {:3.1}mm@10m, s_p: {:3.1}mm@10m'.format(s_p[0]*1e4, s_p[1]*1e4, s_p[2]*1e4))"
   ]
  }
 ],
 "metadata": {
  "anaconda-cloud": {},
  "kernelspec": {
   "display_name": "Python [Root]",
   "language": "python",
   "name": "Python [Root]"
  },
  "language_info": {
   "codemirror_mode": {
    "name": "ipython",
    "version": 3
   },
   "file_extension": ".py",
   "mimetype": "text/x-python",
   "name": "python",
   "nbconvert_exporter": "python",
   "pygments_lexer": "ipython3",
   "version": "3.5.2"
  }
 },
 "nbformat": 4,
 "nbformat_minor": 0
}
